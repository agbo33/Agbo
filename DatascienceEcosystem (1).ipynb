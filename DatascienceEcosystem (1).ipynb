{
 "cells": [
  {
   "cell_type": "markdown",
   "id": "94f5ffa6-7a2c-49d3-ab17-164491f2426b",
   "metadata": {},
   "source": [
    " Data Science Tools and Ecosystem\n"
   ]
  },
  {
   "cell_type": "markdown",
   "id": "8325a7bc-b8e5-4832-b5e3-ab0b6cdbe71b",
   "metadata": {},
   "source": [
    " Data Science Tools and Ecosystem\n",
    "\n",
    "In this notebook, an overview of various data science tools and the ecosystem surrounding them is provided.\n",
    "\n",
    " Data Science Languages\n",
    "\n",
    "Some of the popular languages that Data Scientists use are:\n",
    "\n",
    "1. Python\n",
    "2. R\n",
    "3. SQL\n"
   ]
  },
  {
   "cell_type": "markdown",
   "id": "b66d2737-4ffb-4fe4-8f2a-e27409fc2611",
   "metadata": {},
   "source": [
    " Data Science Tools and Ecosystem\n",
    "\n",
    "In this notebook, an overview of various data science tools and the ecosystem surrounding them is provided.\n",
    "\n",
    " Data Science Libraries\n",
    "\n",
    "Some of the commonly used libraries used by Data Scientists include:\n",
    "\n",
    "1. Pandas\n",
    "2. NumPy\n",
    "3. Matplotlib\n"
   ]
  },
  {
   "cell_type": "markdown",
   "id": "9e2e670f-5585-4f20-9623-77117741391e",
   "metadata": {},
   "source": [
    " Data Science Tools and Ecosystem\n",
    "\n",
    "In this notebook, an overview of various data science tools and the ecosystem surrounding them is provided.\n",
    " Data Science Tools\n",
    "\n",
    "| Data Science Tools       |\n",
    "|--------------------------|\n",
    "| Jupyter Notebooks        |\n",
    "| RStudio                  |\n",
    "| Spyder                   |\n"
   ]
  },
  {
   "cell_type": "markdown",
   "id": "ac42868d-e612-4116-b835-8d41d9182a70",
   "metadata": {},
   "source": [
    " Introduction to Arithmetic Expressions\n",
    "\n",
    "In this section, we'll explore examples of evaluating arithmetic expressions in Python.\n",
    "\n",
    " Examples of Arithmetic Expressions Evaluation\n",
    "\n",
    "Below are a few examples of evaluating arithmetic expressions in Python:\n"
   ]
  },
  {
   "cell_type": "code",
   "execution_count": 4,
   "id": "c1780616-aa0f-4dbb-94ee-9717e33f5a6c",
   "metadata": {},
   "outputs": [
    {
     "data": {
      "text/plain": [
       "17"
      ]
     },
     "execution_count": 4,
     "metadata": {},
     "output_type": "execute_result"
    }
   ],
   "source": [
    "# This is a simple arithmetic expression to multiply then add integers\n",
    "result = (3 * 4) + 5\n",
    "result\n"
   ]
  },
  {
   "cell_type": "markdown",
   "id": "a7607b22-71ea-4789-bd1e-5732da83a6de",
   "metadata": {},
   "source": [
    "# This will convert 200 minutes to hours by dividing by 60\n",
    "minutes = 200\n",
    "hours = minutes / 60\n",
    "hours\n"
   ]
  },
  {
   "cell_type": "markdown",
   "id": "54431b2a-eb5e-4fe8-ac94-c35dd252e9fe",
   "metadata": {},
   "source": [
    "**Objectives:**\n",
    "\n",
    "- List popular languages for Data Science.\n",
    "- Introduce common data science libraries.\n",
    "- Demonstrate arithmetic expression evaluation in Python.\n",
    "- Convert minutes to hours using Python expressions.\n"
   ]
  },
  {
   "cell_type": "markdown",
   "id": "6e7ed88c-67c4-480e-ab75-2456f8532491",
   "metadata": {},
   "source": [
    "## Author\n",
    "\n",
    "Kingsley Agbo\n"
   ]
  },
  {
   "cell_type": "code",
   "execution_count": null,
   "id": "d6c34cf9-ebe8-4c42-b774-603f8d73dbe5",
   "metadata": {},
   "outputs": [],
   "source": []
  }
 ],
 "metadata": {
  "kernelspec": {
   "display_name": "Python 3 (ipykernel)",
   "language": "python",
   "name": "python3"
  },
  "language_info": {
   "codemirror_mode": {
    "name": "ipython",
    "version": 3
   },
   "file_extension": ".py",
   "mimetype": "text/x-python",
   "name": "python",
   "nbconvert_exporter": "python",
   "pygments_lexer": "ipython3",
   "version": "3.12.3"
  }
 },
 "nbformat": 4,
 "nbformat_minor": 5
}
